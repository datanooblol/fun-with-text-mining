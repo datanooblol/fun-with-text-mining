{
 "cells": [
  {
   "cell_type": "code",
   "execution_count": 1,
   "id": "becad07a",
   "metadata": {},
   "outputs": [],
   "source": [
    "%load_ext autoreload\n",
    "%autoreload 2"
   ]
  },
  {
   "cell_type": "markdown",
   "id": "17ba7853",
   "metadata": {},
   "source": [
    "# Set up"
   ]
  },
  {
   "cell_type": "code",
   "execution_count": 2,
   "id": "134047d9",
   "metadata": {},
   "outputs": [
    {
     "data": {
      "text/plain": [
       "True"
      ]
     },
     "execution_count": 2,
     "metadata": {},
     "output_type": "execute_result"
    }
   ],
   "source": [
    "from dotenv import load_dotenv\n",
    "load_dotenv(override=True)"
   ]
  },
  {
   "cell_type": "code",
   "execution_count": 3,
   "id": "e2f87a91",
   "metadata": {},
   "outputs": [],
   "source": [
    "import os\n",
    "\n",
    "AWS_ACCESS_KEY_ID = os.getenv(\"AWS_ACCESS_KEY_ID\")\n",
    "AWS_SECRET_ACCESS_KEY = os.getenv(\"AWS_SECRET_ACCESS_KEY\")\n",
    "AWS_SESSION_TOKEN = os.getenv(\"AWS_SESSION_TOKEN\", None)"
   ]
  },
  {
   "cell_type": "code",
   "execution_count": 4,
   "id": "36b61e2e",
   "metadata": {},
   "outputs": [
    {
     "data": {
      "text/plain": [
       "200"
      ]
     },
     "execution_count": 4,
     "metadata": {},
     "output_type": "execute_result"
    }
   ],
   "source": [
    "import boto3\n",
    "\n",
    "s3_client = boto3.client(\"s3\", region_name=\"ap-southeast-1\", aws_access_key_id=AWS_ACCESS_KEY_ID, aws_secret_access_key=AWS_SECRET_ACCESS_KEY, aws_session_token=AWS_SESSION_TOKEN)\n",
    "s3_client.list_buckets()[\"ResponseMetadata\"]['HTTPStatusCode']"
   ]
  },
  {
   "cell_type": "code",
   "execution_count": 5,
   "id": "2b22ccb2",
   "metadata": {},
   "outputs": [
    {
     "data": {
      "text/plain": [
       "True"
      ]
     },
     "execution_count": 5,
     "metadata": {},
     "output_type": "execute_result"
    }
   ],
   "source": [
    "import torch\n",
    "torch.cuda.is_available()"
   ]
  },
  {
   "cell_type": "markdown",
   "id": "07f90df5",
   "metadata": {},
   "source": [
    "# Test"
   ]
  },
  {
   "cell_type": "code",
   "execution_count": 6,
   "id": "6081eb74",
   "metadata": {},
   "outputs": [
    {
     "data": {
      "text/html": [
       "<div>\n",
       "<style scoped>\n",
       "    .dataframe tbody tr th:only-of-type {\n",
       "        vertical-align: middle;\n",
       "    }\n",
       "\n",
       "    .dataframe tbody tr th {\n",
       "        vertical-align: top;\n",
       "    }\n",
       "\n",
       "    .dataframe thead th {\n",
       "        text-align: right;\n",
       "    }\n",
       "</style>\n",
       "<table border=\"1\" class=\"dataframe\">\n",
       "  <thead>\n",
       "    <tr style=\"text-align: right;\">\n",
       "      <th></th>\n",
       "      <th>documents</th>\n",
       "    </tr>\n",
       "  </thead>\n",
       "  <tbody>\n",
       "    <tr>\n",
       "      <th>0</th>\n",
       "      <td>วันนี้อากาศดีมาก อยากไปเที่ยวทะเล</td>\n",
       "    </tr>\n",
       "    <tr>\n",
       "      <th>1</th>\n",
       "      <td>ปัญญาประดิษฐ์กำลังเปลี่ยนแปลงโลกและเทคโนโลยี</td>\n",
       "    </tr>\n",
       "    <tr>\n",
       "      <th>2</th>\n",
       "      <td>ฉันชอบกินอาหารไทยโดยเฉพาะผัดไทยและต้มยำกุ้ง</td>\n",
       "    </tr>\n",
       "    <tr>\n",
       "      <th>3</th>\n",
       "      <td>เทคโนโลยีและนวัตกรรมช่วยให้ชีวิตง่ายขึ้น</td>\n",
       "    </tr>\n",
       "    <tr>\n",
       "      <th>4</th>\n",
       "      <td>อยากไปเที่ยวภูเขากับเพื่อนในวันหยุด</td>\n",
       "    </tr>\n",
       "  </tbody>\n",
       "</table>\n",
       "</div>"
      ],
      "text/plain": [
       "                                      documents\n",
       "0             วันนี้อากาศดีมาก อยากไปเที่ยวทะเล\n",
       "1  ปัญญาประดิษฐ์กำลังเปลี่ยนแปลงโลกและเทคโนโลยี\n",
       "2   ฉันชอบกินอาหารไทยโดยเฉพาะผัดไทยและต้มยำกุ้ง\n",
       "3      เทคโนโลยีและนวัตกรรมช่วยให้ชีวิตง่ายขึ้น\n",
       "4           อยากไปเที่ยวภูเขากับเพื่อนในวันหยุด"
      ]
     },
     "execution_count": 6,
     "metadata": {},
     "output_type": "execute_result"
    }
   ],
   "source": [
    "import pandas as pd\n",
    "\n",
    "data = {\n",
    "    \"documents\": [\n",
    "        \"วันนี้อากาศดีมาก อยากไปเที่ยวทะเล\",\n",
    "        \"ปัญญาประดิษฐ์กำลังเปลี่ยนแปลงโลกและเทคโนโลยี\",\n",
    "        \"ฉันชอบกินอาหารไทยโดยเฉพาะผัดไทยและต้มยำกุ้ง\",\n",
    "        \"เทคโนโลยีและนวัตกรรมช่วยให้ชีวิตง่ายขึ้น\",\n",
    "        \"อยากไปเที่ยวภูเขากับเพื่อนในวันหยุด\"\n",
    "    ]\n",
    "}\n",
    "\n",
    "df = pd.DataFrame(data)\n",
    "texts = df[\"documents\"].tolist()\n",
    "df"
   ]
  },
  {
   "cell_type": "code",
   "execution_count": 7,
   "id": "7d84d583",
   "metadata": {},
   "outputs": [
    {
     "name": "stdout",
     "output_type": "stream",
     "text": [
      "Number of stopwords: 1030\n",
      "Tokenizer engine: newmm\n",
      "[['อากาศ', 'ดีมาก', 'ไปเที่ยว', 'ทะเล'], ['ปัญญาประดิษฐ์', 'โลก', 'เทคโนโลยี'], ['ชอบ', 'กิน', 'อาหาร', 'ไทย', 'โดยเฉพาะ', 'ผัดไทย', 'ต้มยำกุ้ง'], ['เทคโนโลยี', 'นวัตกรรม', 'ชีวิต'], ['ไปเที่ยว', 'ภูเขา', 'เพื่อน', 'วันหยุด']]\n"
     ]
    }
   ],
   "source": [
    "from pythainlp import word_tokenize\n",
    "from pythainlp.corpus.common import thai_stopwords\n",
    "import re\n",
    "from typing import Literal\n",
    "stopwords = set(thai_stopwords())\n",
    "\n",
    "class Tokenizer:\n",
    "    def __init__(self, stopwords:set, engine:Literal[\"newmm\", \"attacut\"]=\"newmm\"):\n",
    "        self.stopwords = stopwords\n",
    "        self.engine = engine\n",
    "        self.message()\n",
    "\n",
    "    def message(self,):\n",
    "        print(f\"Number of stopwords: {len(self.stopwords)}\")\n",
    "        print(f\"Tokenizer engine: {self.engine}\")\n",
    "\n",
    "    def __call__(self, text):\n",
    "        return self.run(text)\n",
    "\n",
    "    def clean(self, text):\n",
    "        return re.sub(r\"[^ก-๙a-zA-Z\\s]\", \"\", text)\n",
    "\n",
    "    def tokenize(self, text):\n",
    "        return word_tokenize(text, engine=self.engine, keep_whitespace=False)\n",
    "\n",
    "    def remove_stopwords(self, tokens):\n",
    "        return [t for t in tokens if t not in stopwords and len(t) > 1]\n",
    "\n",
    "    def run(self, text):\n",
    "        text = self.clean(text)\n",
    "        tokens = self.tokenize(text)\n",
    "        return self.remove_stopwords(tokens)\n",
    "\n",
    "tokenizer = Tokenizer(stopwords=stopwords, engine=\"newmm\")\n",
    "\n",
    "processed_texts = [tokenizer(doc) for doc in texts]\n",
    "print(processed_texts)"
   ]
  },
  {
   "cell_type": "code",
   "execution_count": 8,
   "id": "c9ce6269",
   "metadata": {},
   "outputs": [],
   "source": [
    "from gensim import corpora\n",
    "\n",
    "dictionary = corpora.Dictionary(processed_texts)\n",
    "corpus = [dictionary.doc2bow(text) for text in processed_texts]"
   ]
  },
  {
   "cell_type": "code",
   "execution_count": 9,
   "id": "c9b5169f",
   "metadata": {},
   "outputs": [
    {
     "data": {
      "text/plain": [
       "{'ดีมาก': 0,\n",
       " 'ทะเล': 1,\n",
       " 'อากาศ': 2,\n",
       " 'ไปเที่ยว': 3,\n",
       " 'ปัญญาประดิษฐ์': 4,\n",
       " 'เทคโนโลยี': 5,\n",
       " 'โลก': 6,\n",
       " 'กิน': 7,\n",
       " 'ชอบ': 8,\n",
       " 'ต้มยำกุ้ง': 9,\n",
       " 'ผัดไทย': 10,\n",
       " 'อาหาร': 11,\n",
       " 'โดยเฉพาะ': 12,\n",
       " 'ไทย': 13,\n",
       " 'ชีวิต': 14,\n",
       " 'นวัตกรรม': 15,\n",
       " 'ภูเขา': 16,\n",
       " 'วันหยุด': 17,\n",
       " 'เพื่อน': 18}"
      ]
     },
     "execution_count": 9,
     "metadata": {},
     "output_type": "execute_result"
    }
   ],
   "source": [
    "dictionary.token2id"
   ]
  },
  {
   "cell_type": "code",
   "execution_count": 10,
   "id": "44ef7848",
   "metadata": {},
   "outputs": [
    {
     "data": {
      "text/plain": [
       "[[(0, 1), (1, 1), (2, 1), (3, 1)],\n",
       " [(4, 1), (5, 1), (6, 1)],\n",
       " [(7, 1), (8, 1), (9, 1), (10, 1), (11, 1), (12, 1), (13, 1)],\n",
       " [(5, 1), (14, 1), (15, 1)],\n",
       " [(3, 1), (16, 1), (17, 1), (18, 1)]]"
      ]
     },
     "execution_count": 10,
     "metadata": {},
     "output_type": "execute_result"
    }
   ],
   "source": [
    "corpus"
   ]
  },
  {
   "cell_type": "code",
   "execution_count": 11,
   "id": "c75a4751",
   "metadata": {},
   "outputs": [
    {
     "name": "stdout",
     "output_type": "stream",
     "text": [
      "[('ดีมาก', 1), ('ทะเล', 1), ('อากาศ', 1), ('ไปเที่ยว', 1)]\n",
      "[('ปัญญาประดิษฐ์', 1), ('เทคโนโลยี', 1), ('โลก', 1)]\n",
      "[('กิน', 1), ('ชอบ', 1), ('ต้มยำกุ้ง', 1), ('ผัดไทย', 1), ('อาหาร', 1), ('โดยเฉพาะ', 1), ('ไทย', 1)]\n",
      "[('เทคโนโลยี', 1), ('ชีวิต', 1), ('นวัตกรรม', 1)]\n",
      "[('ไปเที่ยว', 1), ('ภูเขา', 1), ('วันหยุด', 1), ('เพื่อน', 1)]\n"
     ]
    }
   ],
   "source": [
    "for doc_bow in corpus:\n",
    "    words_in_doc = [(dictionary[id], count) for id, count in doc_bow]\n",
    "    print(words_in_doc)"
   ]
  },
  {
   "cell_type": "code",
   "execution_count": 12,
   "id": "ff570bc8",
   "metadata": {},
   "outputs": [],
   "source": [
    "from gensim.models import LdaModel\n",
    "\n",
    "num_topics=4\n",
    "\n",
    "lda_model = LdaModel(\n",
    "    corpus=corpus,\n",
    "    id2word=dictionary,\n",
    "    num_topics=num_topics,        # try adjusting this\n",
    "    random_state=55,\n",
    "    passes=20,\n",
    "    alpha='auto'\n",
    ")"
   ]
  },
  {
   "cell_type": "code",
   "execution_count": 13,
   "id": "c7bfd664",
   "metadata": {},
   "outputs": [
    {
     "name": "stdout",
     "output_type": "stream",
     "text": [
      "หัวข้อที่ 0: 0.161*\"โลก\" + 0.161*\"ปัญญาประดิษฐ์\" + 0.161*\"เทคโนโลยี\" + 0.032*\"ไปเที่ยว\" + 0.032*\"วันหยุด\" + 0.032*\"ทะเล\" + 0.032*\"ชีวิต\" + 0.032*\"ภูเขา\" + 0.032*\"เพื่อน\" + 0.032*\"นวัตกรรม\"\n",
      "\n",
      "หัวข้อที่ 1: 0.106*\"เทคโนโลยี\" + 0.106*\"ไปเที่ยว\" + 0.106*\"เพื่อน\" + 0.106*\"ภูเขา\" + 0.106*\"วันหยุด\" + 0.106*\"นวัตกรรม\" + 0.106*\"ชีวิต\" + 0.021*\"ดีมาก\" + 0.021*\"ทะเล\" + 0.021*\"อากาศ\"\n",
      "\n",
      "หัวข้อที่ 2: 0.079*\"ต้มยำกุ้ง\" + 0.079*\"ไทย\" + 0.079*\"อาหาร\" + 0.079*\"โดยเฉพาะ\" + 0.079*\"ผัดไทย\" + 0.079*\"ชอบ\" + 0.079*\"กิน\" + 0.079*\"ดีมาก\" + 0.079*\"อากาศ\" + 0.079*\"ทะเล\"\n",
      "\n",
      "หัวข้อที่ 3: 0.053*\"เทคโนโลยี\" + 0.053*\"ไปเที่ยว\" + 0.053*\"อากาศ\" + 0.053*\"ทะเล\" + 0.053*\"วันหยุด\" + 0.053*\"ปัญญาประดิษฐ์\" + 0.053*\"ชีวิต\" + 0.053*\"นวัตกรรม\" + 0.053*\"โลก\" + 0.053*\"เพื่อน\"\n",
      "\n"
     ]
    }
   ],
   "source": [
    "for idx, topic in lda_model.print_topics(-1):\n",
    "    print(f\"หัวข้อที่ {idx}: {topic}\\n\")"
   ]
  },
  {
   "cell_type": "code",
   "execution_count": 14,
   "id": "5b97fc8c",
   "metadata": {},
   "outputs": [
    {
     "data": {
      "text/plain": [
       "[(0,\n",
       "  '0.161*\"โลก\" + 0.161*\"ปัญญาประดิษฐ์\" + 0.161*\"เทคโนโลยี\" + 0.032*\"ไปเที่ยว\" + 0.032*\"วันหยุด\" + 0.032*\"ทะเล\" + 0.032*\"ชีวิต\" + 0.032*\"ภูเขา\" + 0.032*\"เพื่อน\" + 0.032*\"นวัตกรรม\"'),\n",
       " (1,\n",
       "  '0.106*\"เทคโนโลยี\" + 0.106*\"ไปเที่ยว\" + 0.106*\"เพื่อน\" + 0.106*\"ภูเขา\" + 0.106*\"วันหยุด\" + 0.106*\"นวัตกรรม\" + 0.106*\"ชีวิต\" + 0.021*\"ดีมาก\" + 0.021*\"ทะเล\" + 0.021*\"อากาศ\"'),\n",
       " (2,\n",
       "  '0.079*\"ต้มยำกุ้ง\" + 0.079*\"ไทย\" + 0.079*\"อาหาร\" + 0.079*\"โดยเฉพาะ\" + 0.079*\"ผัดไทย\" + 0.079*\"ชอบ\" + 0.079*\"กิน\" + 0.079*\"ดีมาก\" + 0.079*\"อากาศ\" + 0.079*\"ทะเล\"'),\n",
       " (3,\n",
       "  '0.053*\"เทคโนโลยี\" + 0.053*\"ไปเที่ยว\" + 0.053*\"อากาศ\" + 0.053*\"ทะเล\" + 0.053*\"วันหยุด\" + 0.053*\"ปัญญาประดิษฐ์\" + 0.053*\"ชีวิต\" + 0.053*\"นวัตกรรม\" + 0.053*\"โลก\" + 0.053*\"เพื่อน\"')]"
      ]
     },
     "execution_count": 14,
     "metadata": {},
     "output_type": "execute_result"
    }
   ],
   "source": [
    "lda_model.print_topics(-1)"
   ]
  },
  {
   "cell_type": "code",
   "execution_count": 15,
   "id": "95a6b75c",
   "metadata": {},
   "outputs": [
    {
     "data": {
      "text/plain": [
       "<gensim.corpora.dictionary.Dictionary at 0x7f1544adaea0>"
      ]
     },
     "execution_count": 15,
     "metadata": {},
     "output_type": "execute_result"
    }
   ],
   "source": [
    "dictionary"
   ]
  },
  {
   "cell_type": "code",
   "execution_count": 16,
   "id": "6e0cbdf7",
   "metadata": {},
   "outputs": [],
   "source": [
    "def gensim_predict_topic(text, model, dictionary, tokenizer, return_all_topics=True):\n",
    "    tokens = tokenizer(text)\n",
    "    bow = dictionary.doc2bow(tokens)\n",
    "    topics = model.get_document_topics(bow)\n",
    "    if return_all_topics:\n",
    "        return topics\n",
    "    if not topics:\n",
    "        return None, 0\n",
    "    main_topic_id, prob = max(topics, key=lambda x: x[1])\n",
    "    return main_topic_id, prob"
   ]
  },
  {
   "cell_type": "code",
   "execution_count": 17,
   "id": "94a0d83a",
   "metadata": {},
   "outputs": [
    {
     "data": {
      "text/plain": [
       "'วันนี้อากาศดีมาก อยากไปเที่ยวทะเล'"
      ]
     },
     "execution_count": 17,
     "metadata": {},
     "output_type": "execute_result"
    }
   ],
   "source": [
    "texts[0]"
   ]
  },
  {
   "cell_type": "code",
   "execution_count": 18,
   "id": "71199a6f",
   "metadata": {},
   "outputs": [
    {
     "data": {
      "text/plain": [
       "(2, 0.9474281)"
      ]
     },
     "execution_count": 18,
     "metadata": {},
     "output_type": "execute_result"
    }
   ],
   "source": [
    "gensim_predict_topic(texts[0], lda_model, dictionary, tokenizer, return_all_topics=False)"
   ]
  },
  {
   "cell_type": "code",
   "execution_count": 19,
   "id": "8251f681",
   "metadata": {},
   "outputs": [
    {
     "data": {
      "text/plain": [
       "[(0,\n",
       "  '0.161*\"โลก\" + 0.161*\"ปัญญาประดิษฐ์\" + 0.161*\"เทคโนโลยี\" + 0.032*\"ไปเที่ยว\" + 0.032*\"วันหยุด\" + 0.032*\"ทะเล\" + 0.032*\"ชีวิต\" + 0.032*\"ภูเขา\" + 0.032*\"เพื่อน\" + 0.032*\"นวัตกรรม\"'),\n",
       " (1,\n",
       "  '0.106*\"เทคโนโลยี\" + 0.106*\"ไปเที่ยว\" + 0.106*\"เพื่อน\" + 0.106*\"ภูเขา\" + 0.106*\"วันหยุด\" + 0.106*\"นวัตกรรม\" + 0.106*\"ชีวิต\" + 0.021*\"ดีมาก\" + 0.021*\"ทะเล\" + 0.021*\"อากาศ\"'),\n",
       " (2,\n",
       "  '0.079*\"ต้มยำกุ้ง\" + 0.079*\"ไทย\" + 0.079*\"อาหาร\" + 0.079*\"โดยเฉพาะ\" + 0.079*\"ผัดไทย\" + 0.079*\"ชอบ\" + 0.079*\"กิน\" + 0.079*\"ดีมาก\" + 0.079*\"อากาศ\" + 0.079*\"ทะเล\"'),\n",
       " (3,\n",
       "  '0.053*\"เทคโนโลยี\" + 0.053*\"ไปเที่ยว\" + 0.053*\"อากาศ\" + 0.053*\"ทะเล\" + 0.053*\"วันหยุด\" + 0.053*\"ปัญญาประดิษฐ์\" + 0.053*\"ชีวิต\" + 0.053*\"นวัตกรรม\" + 0.053*\"โลก\" + 0.053*\"เพื่อน\"')]"
      ]
     },
     "execution_count": 19,
     "metadata": {},
     "output_type": "execute_result"
    }
   ],
   "source": [
    "lda_model.print_topics(-1)"
   ]
  },
  {
   "cell_type": "code",
   "execution_count": 20,
   "id": "1a52c584",
   "metadata": {},
   "outputs": [
    {
     "data": {
      "text/plain": [
       "'วันนี้อากาศดีมาก อยากไปเที่ยวทะเล'"
      ]
     },
     "execution_count": 20,
     "metadata": {},
     "output_type": "execute_result"
    }
   ],
   "source": [
    "texts[0]"
   ]
  },
  {
   "cell_type": "code",
   "execution_count": 21,
   "id": "54278dc0",
   "metadata": {},
   "outputs": [
    {
     "data": {
      "text/plain": [
       "['อากาศ', 'ดีมาก', 'ไปเที่ยว', 'ทะเล']"
      ]
     },
     "execution_count": 21,
     "metadata": {},
     "output_type": "execute_result"
    }
   ],
   "source": [
    "tokenizer(texts[0])"
   ]
  },
  {
   "cell_type": "code",
   "execution_count": 22,
   "id": "63d7b66d",
   "metadata": {},
   "outputs": [
    {
     "data": {
      "text/plain": [
       "[('ต้มยำกุ้ง', 0.07936507),\n",
       " ('ไทย', 0.07936507),\n",
       " ('อาหาร', 0.07936504),\n",
       " ('โดยเฉพาะ', 0.07936503),\n",
       " ('ผัดไทย', 0.07936501),\n",
       " ('ชอบ', 0.07936501),\n",
       " ('กิน', 0.07936497),\n",
       " ('ดีมาก', 0.079364754),\n",
       " ('อากาศ', 0.07936466),\n",
       " ('ทะเล', 0.07936458),\n",
       " ('ไปเที่ยว', 0.07936195),\n",
       " ('เทคโนโลยี', 0.015873967),\n",
       " ('ชีวิต', 0.015873656),\n",
       " ('นวัตกรรม', 0.015873628),\n",
       " ('ปัญญาประดิษฐ์', 0.015873587),\n",
       " ('วันหยุด', 0.015873542),\n",
       " ('โลก', 0.015873525),\n",
       " ('ภูเขา', 0.015873516),\n",
       " ('เพื่อน', 0.015873477)]"
      ]
     },
     "execution_count": 22,
     "metadata": {},
     "output_type": "execute_result"
    }
   ],
   "source": [
    "lda_model.show_topic(2, topn=20)"
   ]
  },
  {
   "cell_type": "code",
   "execution_count": 23,
   "id": "65c54d6a",
   "metadata": {},
   "outputs": [
    {
     "data": {
      "text/plain": [
       "(4, 19)"
      ]
     },
     "execution_count": 23,
     "metadata": {},
     "output_type": "execute_result"
    }
   ],
   "source": [
    "topic_word_matrix = lda_model.get_topics()  # shape = (num_topics, vocab_size)\n",
    "topic_word_matrix.shape"
   ]
  },
  {
   "cell_type": "code",
   "execution_count": 24,
   "id": "7a301c58",
   "metadata": {},
   "outputs": [
    {
     "data": {
      "text/plain": [
       "array([[0.03225898, 0.0322592 , 0.03225906, 0.0322595 , 0.16129144,\n",
       "        0.16127193, 0.16129166, 0.03225897, 0.032259  , 0.03225888,\n",
       "        0.03225898, 0.03225894, 0.03225892, 0.03225891, 0.03225916,\n",
       "        0.03225908, 0.03225908, 0.0322592 , 0.03225908],\n",
       "       [0.02127689, 0.02127689, 0.02127688, 0.10638496, 0.02127679,\n",
       "        0.10639384, 0.02127674, 0.02127663, 0.0212766 , 0.02127661,\n",
       "        0.02127665, 0.0212766 , 0.02127663, 0.02127661, 0.10637999,\n",
       "        0.10638011, 0.10638028, 0.10638011, 0.10638031],\n",
       "       [0.07936475, 0.07936458, 0.07936466, 0.07936195, 0.01587359,\n",
       "        0.01587397, 0.01587353, 0.07936497, 0.07936501, 0.07936507,\n",
       "        0.07936501, 0.07936504, 0.07936503, 0.07936507, 0.01587366,\n",
       "        0.01587363, 0.01587352, 0.01587354, 0.01587348],\n",
       "       [0.05263148, 0.05263172, 0.05263172, 0.05263222, 0.05263164,\n",
       "        0.05263224, 0.05263158, 0.05263148, 0.0526314 , 0.05263136,\n",
       "        0.05263129, 0.05263139, 0.05263135, 0.0526313 , 0.0526316 ,\n",
       "        0.05263158, 0.05263148, 0.05263167, 0.05263155]], dtype=float32)"
      ]
     },
     "execution_count": 24,
     "metadata": {},
     "output_type": "execute_result"
    }
   ],
   "source": [
    "topic_word_matrix"
   ]
  },
  {
   "cell_type": "code",
   "execution_count": 33,
   "id": "0ba9203f",
   "metadata": {},
   "outputs": [
    {
     "data": {
      "text/html": [
       "<div>\n",
       "<style scoped>\n",
       "    .dataframe tbody tr th:only-of-type {\n",
       "        vertical-align: middle;\n",
       "    }\n",
       "\n",
       "    .dataframe tbody tr th {\n",
       "        vertical-align: top;\n",
       "    }\n",
       "\n",
       "    .dataframe thead th {\n",
       "        text-align: right;\n",
       "    }\n",
       "</style>\n",
       "<table border=\"1\" class=\"dataframe\">\n",
       "  <thead>\n",
       "    <tr style=\"text-align: right;\">\n",
       "      <th></th>\n",
       "      <th>ดีมาก</th>\n",
       "      <th>ทะเล</th>\n",
       "      <th>อากาศ</th>\n",
       "      <th>ไปเที่ยว</th>\n",
       "      <th>ปัญญาประดิษฐ์</th>\n",
       "      <th>เทคโนโลยี</th>\n",
       "      <th>โลก</th>\n",
       "      <th>กิน</th>\n",
       "      <th>ชอบ</th>\n",
       "      <th>ต้มยำกุ้ง</th>\n",
       "      <th>ผัดไทย</th>\n",
       "      <th>อาหาร</th>\n",
       "      <th>โดยเฉพาะ</th>\n",
       "      <th>ไทย</th>\n",
       "      <th>ชีวิต</th>\n",
       "      <th>นวัตกรรม</th>\n",
       "      <th>ภูเขา</th>\n",
       "      <th>วันหยุด</th>\n",
       "      <th>เพื่อน</th>\n",
       "    </tr>\n",
       "  </thead>\n",
       "  <tbody>\n",
       "    <tr>\n",
       "      <th>0</th>\n",
       "      <td>0.032259</td>\n",
       "      <td>0.032259</td>\n",
       "      <td>0.032259</td>\n",
       "      <td>0.032259</td>\n",
       "      <td>0.161291</td>\n",
       "      <td>0.161272</td>\n",
       "      <td>0.161292</td>\n",
       "      <td>0.032259</td>\n",
       "      <td>0.032259</td>\n",
       "      <td>0.032259</td>\n",
       "      <td>0.032259</td>\n",
       "      <td>0.032259</td>\n",
       "      <td>0.032259</td>\n",
       "      <td>0.032259</td>\n",
       "      <td>0.032259</td>\n",
       "      <td>0.032259</td>\n",
       "      <td>0.032259</td>\n",
       "      <td>0.032259</td>\n",
       "      <td>0.032259</td>\n",
       "    </tr>\n",
       "    <tr>\n",
       "      <th>1</th>\n",
       "      <td>0.021277</td>\n",
       "      <td>0.021277</td>\n",
       "      <td>0.021277</td>\n",
       "      <td>0.106385</td>\n",
       "      <td>0.021277</td>\n",
       "      <td>0.106394</td>\n",
       "      <td>0.021277</td>\n",
       "      <td>0.021277</td>\n",
       "      <td>0.021277</td>\n",
       "      <td>0.021277</td>\n",
       "      <td>0.021277</td>\n",
       "      <td>0.021277</td>\n",
       "      <td>0.021277</td>\n",
       "      <td>0.021277</td>\n",
       "      <td>0.106380</td>\n",
       "      <td>0.106380</td>\n",
       "      <td>0.106380</td>\n",
       "      <td>0.106380</td>\n",
       "      <td>0.106380</td>\n",
       "    </tr>\n",
       "    <tr>\n",
       "      <th>2</th>\n",
       "      <td>0.079365</td>\n",
       "      <td>0.079365</td>\n",
       "      <td>0.079365</td>\n",
       "      <td>0.079362</td>\n",
       "      <td>0.015874</td>\n",
       "      <td>0.015874</td>\n",
       "      <td>0.015874</td>\n",
       "      <td>0.079365</td>\n",
       "      <td>0.079365</td>\n",
       "      <td>0.079365</td>\n",
       "      <td>0.079365</td>\n",
       "      <td>0.079365</td>\n",
       "      <td>0.079365</td>\n",
       "      <td>0.079365</td>\n",
       "      <td>0.015874</td>\n",
       "      <td>0.015874</td>\n",
       "      <td>0.015874</td>\n",
       "      <td>0.015874</td>\n",
       "      <td>0.015873</td>\n",
       "    </tr>\n",
       "    <tr>\n",
       "      <th>3</th>\n",
       "      <td>0.052631</td>\n",
       "      <td>0.052632</td>\n",
       "      <td>0.052632</td>\n",
       "      <td>0.052632</td>\n",
       "      <td>0.052632</td>\n",
       "      <td>0.052632</td>\n",
       "      <td>0.052632</td>\n",
       "      <td>0.052631</td>\n",
       "      <td>0.052631</td>\n",
       "      <td>0.052631</td>\n",
       "      <td>0.052631</td>\n",
       "      <td>0.052631</td>\n",
       "      <td>0.052631</td>\n",
       "      <td>0.052631</td>\n",
       "      <td>0.052632</td>\n",
       "      <td>0.052632</td>\n",
       "      <td>0.052631</td>\n",
       "      <td>0.052632</td>\n",
       "      <td>0.052632</td>\n",
       "    </tr>\n",
       "  </tbody>\n",
       "</table>\n",
       "</div>"
      ],
      "text/plain": [
       "      ดีมาก      ทะเล     อากาศ  ไปเที่ยว  ปัญญาประดิษฐ์  เทคโนโลยี       โลก  \\\n",
       "0  0.032259  0.032259  0.032259  0.032259       0.161291   0.161272  0.161292   \n",
       "1  0.021277  0.021277  0.021277  0.106385       0.021277   0.106394  0.021277   \n",
       "2  0.079365  0.079365  0.079365  0.079362       0.015874   0.015874  0.015874   \n",
       "3  0.052631  0.052632  0.052632  0.052632       0.052632   0.052632  0.052632   \n",
       "\n",
       "        กิน       ชอบ  ต้มยำกุ้ง    ผัดไทย     อาหาร  โดยเฉพาะ       ไทย  \\\n",
       "0  0.032259  0.032259   0.032259  0.032259  0.032259  0.032259  0.032259   \n",
       "1  0.021277  0.021277   0.021277  0.021277  0.021277  0.021277  0.021277   \n",
       "2  0.079365  0.079365   0.079365  0.079365  0.079365  0.079365  0.079365   \n",
       "3  0.052631  0.052631   0.052631  0.052631  0.052631  0.052631  0.052631   \n",
       "\n",
       "      ชีวิต  นวัตกรรม     ภูเขา   วันหยุด    เพื่อน  \n",
       "0  0.032259  0.032259  0.032259  0.032259  0.032259  \n",
       "1  0.106380  0.106380  0.106380  0.106380  0.106380  \n",
       "2  0.015874  0.015874  0.015874  0.015874  0.015873  \n",
       "3  0.052632  0.052632  0.052631  0.052632  0.052632  "
      ]
     },
     "execution_count": 33,
     "metadata": {},
     "output_type": "execute_result"
    }
   ],
   "source": [
    "lookup = pd.DataFrame(topic_word_matrix, columns=dictionary.token2id)\n",
    "lookup"
   ]
  },
  {
   "cell_type": "code",
   "execution_count": 48,
   "id": "83ea04d8",
   "metadata": {},
   "outputs": [
    {
     "name": "stdout",
     "output_type": "stream",
     "text": [
      "(2, 0.9474282)\n"
     ]
    }
   ],
   "source": [
    "tokens = tokenizer(texts[0])\n",
    "bow = dictionary.doc2bow(tokens)\n",
    "# lookup.loc[:, tokens]\n",
    "topics = lda_model.get_document_topics(bow)\n",
    "top_topic = max(topics, key=lambda x: x[1])\n",
    "print(top_topic)"
   ]
  },
  {
   "cell_type": "code",
   "execution_count": 61,
   "id": "642e237e",
   "metadata": {},
   "outputs": [
    {
     "data": {
      "text/plain": [
       "([(0, 1), (1, 1), (2, 1), (3, 1)], ['อากาศ', 'ดีมาก', 'ไปเที่ยว', 'ทะเล'])"
      ]
     },
     "execution_count": 61,
     "metadata": {},
     "output_type": "execute_result"
    }
   ],
   "source": [
    "bow, tokens"
   ]
  },
  {
   "cell_type": "code",
   "execution_count": 62,
   "id": "cf7a5bda",
   "metadata": {},
   "outputs": [
    {
     "data": {
      "text/html": [
       "<div>\n",
       "<style scoped>\n",
       "    .dataframe tbody tr th:only-of-type {\n",
       "        vertical-align: middle;\n",
       "    }\n",
       "\n",
       "    .dataframe tbody tr th {\n",
       "        vertical-align: top;\n",
       "    }\n",
       "\n",
       "    .dataframe thead th {\n",
       "        text-align: right;\n",
       "    }\n",
       "</style>\n",
       "<table border=\"1\" class=\"dataframe\">\n",
       "  <thead>\n",
       "    <tr style=\"text-align: right;\">\n",
       "      <th></th>\n",
       "      <th>อากาศ</th>\n",
       "      <th>ดีมาก</th>\n",
       "      <th>ไปเที่ยว</th>\n",
       "      <th>ทะเล</th>\n",
       "    </tr>\n",
       "  </thead>\n",
       "  <tbody>\n",
       "    <tr>\n",
       "      <th>0</th>\n",
       "      <td>0.032259</td>\n",
       "      <td>0.032259</td>\n",
       "      <td>0.032259</td>\n",
       "      <td>0.032259</td>\n",
       "    </tr>\n",
       "    <tr>\n",
       "      <th>1</th>\n",
       "      <td>0.021277</td>\n",
       "      <td>0.021277</td>\n",
       "      <td>0.106385</td>\n",
       "      <td>0.021277</td>\n",
       "    </tr>\n",
       "    <tr>\n",
       "      <th>2</th>\n",
       "      <td>0.079365</td>\n",
       "      <td>0.079365</td>\n",
       "      <td>0.079362</td>\n",
       "      <td>0.079365</td>\n",
       "    </tr>\n",
       "    <tr>\n",
       "      <th>3</th>\n",
       "      <td>0.052632</td>\n",
       "      <td>0.052631</td>\n",
       "      <td>0.052632</td>\n",
       "      <td>0.052632</td>\n",
       "    </tr>\n",
       "  </tbody>\n",
       "</table>\n",
       "</div>"
      ],
      "text/plain": [
       "      อากาศ     ดีมาก  ไปเที่ยว      ทะเล\n",
       "0  0.032259  0.032259  0.032259  0.032259\n",
       "1  0.021277  0.021277  0.106385  0.021277\n",
       "2  0.079365  0.079365  0.079362  0.079365\n",
       "3  0.052632  0.052631  0.052632  0.052632"
      ]
     },
     "execution_count": 62,
     "metadata": {},
     "output_type": "execute_result"
    }
   ],
   "source": [
    "lookup.loc[:, tokens]"
   ]
  },
  {
   "cell_type": "code",
   "execution_count": 59,
   "id": "dae2f855",
   "metadata": {},
   "outputs": [
    {
     "data": {
      "text/plain": [
       "[(0, 0.016297901), (1, 0.028862536), (2, 0.9474282)]"
      ]
     },
     "execution_count": 59,
     "metadata": {},
     "output_type": "execute_result"
    }
   ],
   "source": [
    "topics"
   ]
  },
  {
   "cell_type": "code",
   "execution_count": 60,
   "id": "3562396d",
   "metadata": {},
   "outputs": [
    {
     "data": {
      "text/plain": [
       "0    0.155986\n",
       "1    0.205764\n",
       "2    0.383755\n",
       "3    0.254495\n",
       "dtype: float32"
      ]
     },
     "execution_count": 60,
     "metadata": {},
     "output_type": "execute_result"
    }
   ],
   "source": [
    "lookup.loc[:, tokens].sum(axis=1) / lookup.loc[:, tokens].sum(axis=1).sum()"
   ]
  },
  {
   "cell_type": "code",
   "execution_count": 58,
   "id": "d77a80ec",
   "metadata": {},
   "outputs": [
    {
     "data": {
      "text/plain": [
       "0    0.129037\n",
       "1    0.170216\n",
       "2    0.317456\n",
       "3    0.210527\n",
       "dtype: float32"
      ]
     },
     "execution_count": 58,
     "metadata": {},
     "output_type": "execute_result"
    }
   ],
   "source": [
    "lookup.loc[:, tokens].sum(axis=1)"
   ]
  },
  {
   "cell_type": "code",
   "execution_count": 42,
   "id": "7243ce47",
   "metadata": {},
   "outputs": [
    {
     "name": "stdout",
     "output_type": "stream",
     "text": [
      "      ดีมาก      ทะเล     อากาศ  ไปเที่ยว  ปัญญาประดิษฐ์  เทคโนโลยี       โลก  \\\n",
      "0  0.032259  0.032259  0.032259  0.032259       0.161291   0.161272  0.161292   \n",
      "1  0.021277  0.021277  0.021277  0.106385       0.021277   0.106394  0.021277   \n",
      "2  0.079365  0.079365  0.079365  0.079362       0.015874   0.015874  0.015874   \n",
      "3  0.052631  0.052632  0.052632  0.052632       0.052632   0.052632  0.052632   \n",
      "\n",
      "        กิน       ชอบ  ต้มยำกุ้ง    ผัดไทย     อาหาร  โดยเฉพาะ       ไทย  \\\n",
      "0  0.032259  0.032259   0.032259  0.032259  0.032259  0.032259  0.032259   \n",
      "1  0.021277  0.021277   0.021277  0.021277  0.021277  0.021277  0.021277   \n",
      "2  0.079365  0.079365   0.079365  0.079365  0.079365  0.079365  0.079365   \n",
      "3  0.052631  0.052631   0.052631  0.052631  0.052631  0.052631  0.052631   \n",
      "\n",
      "      ชีวิต  นวัตกรรม     ภูเขา   วันหยุด    เพื่อน  \n",
      "0  0.032259  0.032259  0.032259  0.032259  0.032259  \n",
      "1  0.106380  0.106380  0.106380  0.106380  0.106380  \n",
      "2  0.015874  0.015874  0.015874  0.015874  0.015873  \n",
      "3  0.052632  0.052632  0.052631  0.052632  0.052632  \n"
     ]
    }
   ],
   "source": [
    "print(lookup)"
   ]
  },
  {
   "cell_type": "code",
   "execution_count": 41,
   "id": "d6992512",
   "metadata": {},
   "outputs": [
    {
     "data": {
      "text/plain": [
       "([(0, 1), (1, 1), (2, 1), (3, 1)], ['อากาศ', 'ดีมาก', 'ไปเที่ยว', 'ทะเล'])"
      ]
     },
     "execution_count": 41,
     "metadata": {},
     "output_type": "execute_result"
    }
   ],
   "source": [
    "bow = dictionary.doc2bow(tokenizer(texts[0]))\n",
    "bow, tokenizer(texts[0])"
   ]
  },
  {
   "cell_type": "code",
   "execution_count": 40,
   "id": "d5b5f48f",
   "metadata": {},
   "outputs": [
    {
     "data": {
      "text/plain": [
       "{'ดีมาก': 0,\n",
       " 'ทะเล': 1,\n",
       " 'อากาศ': 2,\n",
       " 'ไปเที่ยว': 3,\n",
       " 'ปัญญาประดิษฐ์': 4,\n",
       " 'เทคโนโลยี': 5,\n",
       " 'โลก': 6,\n",
       " 'กิน': 7,\n",
       " 'ชอบ': 8,\n",
       " 'ต้มยำกุ้ง': 9,\n",
       " 'ผัดไทย': 10,\n",
       " 'อาหาร': 11,\n",
       " 'โดยเฉพาะ': 12,\n",
       " 'ไทย': 13,\n",
       " 'ชีวิต': 14,\n",
       " 'นวัตกรรม': 15,\n",
       " 'ภูเขา': 16,\n",
       " 'วันหยุด': 17,\n",
       " 'เพื่อน': 18}"
      ]
     },
     "execution_count": 40,
     "metadata": {},
     "output_type": "execute_result"
    }
   ],
   "source": [
    "dictionary.token2id"
   ]
  },
  {
   "cell_type": "code",
   "execution_count": 37,
   "id": "afd7a9dc",
   "metadata": {},
   "outputs": [
    {
     "data": {
      "text/plain": [
       "0    0.129037\n",
       "1    0.170216\n",
       "2    0.317456\n",
       "3    0.210527\n",
       "dtype: float32"
      ]
     },
     "execution_count": 37,
     "metadata": {},
     "output_type": "execute_result"
    }
   ],
   "source": [
    "lookup.loc[:,tokenizer(texts[0])].sum(axis=1)"
   ]
  },
  {
   "cell_type": "code",
   "execution_count": 34,
   "id": "6fe14ca7",
   "metadata": {},
   "outputs": [
    {
     "data": {
      "text/plain": [
       "0    19\n",
       "1    19\n",
       "2    19\n",
       "3    19\n",
       "dtype: int64"
      ]
     },
     "execution_count": 34,
     "metadata": {},
     "output_type": "execute_result"
    }
   ],
   "source": [
    "(lookup>0).sum(axis=1)"
   ]
  },
  {
   "cell_type": "code",
   "execution_count": 26,
   "id": "3e2a8787",
   "metadata": {},
   "outputs": [
    {
     "data": {
      "text/html": [
       "<div>\n",
       "<style scoped>\n",
       "    .dataframe tbody tr th:only-of-type {\n",
       "        vertical-align: middle;\n",
       "    }\n",
       "\n",
       "    .dataframe tbody tr th {\n",
       "        vertical-align: top;\n",
       "    }\n",
       "\n",
       "    .dataframe thead th {\n",
       "        text-align: right;\n",
       "    }\n",
       "</style>\n",
       "<table border=\"1\" class=\"dataframe\">\n",
       "  <thead>\n",
       "    <tr style=\"text-align: right;\">\n",
       "      <th></th>\n",
       "      <th>topic</th>\n",
       "      <th>num_words</th>\n",
       "      <th>top_words</th>\n",
       "    </tr>\n",
       "  </thead>\n",
       "  <tbody>\n",
       "    <tr>\n",
       "      <th>0</th>\n",
       "      <td>0</td>\n",
       "      <td>19</td>\n",
       "      <td>[โลก, ปัญญาประดิษฐ์, เทคโนโลยี, ไปเที่ยว, วันห...</td>\n",
       "    </tr>\n",
       "    <tr>\n",
       "      <th>1</th>\n",
       "      <td>1</td>\n",
       "      <td>19</td>\n",
       "      <td>[เทคโนโลยี, ไปเที่ยว, เพื่อน, ภูเขา, วันหยุด, ...</td>\n",
       "    </tr>\n",
       "    <tr>\n",
       "      <th>2</th>\n",
       "      <td>2</td>\n",
       "      <td>19</td>\n",
       "      <td>[ต้มยำกุ้ง, ไทย, อาหาร, โดยเฉพาะ, ผัดไทย, ชอบ,...</td>\n",
       "    </tr>\n",
       "    <tr>\n",
       "      <th>3</th>\n",
       "      <td>3</td>\n",
       "      <td>19</td>\n",
       "      <td>[เทคโนโลยี, ไปเที่ยว, อากาศ, ทะเล, วันหยุด, ปั...</td>\n",
       "    </tr>\n",
       "  </tbody>\n",
       "</table>\n",
       "</div>"
      ],
      "text/plain": [
       "   topic  num_words                                          top_words\n",
       "0      0         19  [โลก, ปัญญาประดิษฐ์, เทคโนโลยี, ไปเที่ยว, วันห...\n",
       "1      1         19  [เทคโนโลยี, ไปเที่ยว, เพื่อน, ภูเขา, วันหยุด, ...\n",
       "2      2         19  [ต้มยำกุ้ง, ไทย, อาหาร, โดยเฉพาะ, ผัดไทย, ชอบ,...\n",
       "3      3         19  [เทคโนโลยี, ไปเที่ยว, อากาศ, ทะเล, วันหยุด, ปั..."
      ]
     },
     "execution_count": 26,
     "metadata": {},
     "output_type": "execute_result"
    }
   ],
   "source": [
    "topic_stats = []\n",
    "for i in range(lda_model.num_topics):\n",
    "    words = lda_model.show_topic(i, topn=10)\n",
    "    nonzero_count = (lda_model.get_topics()[i] > 0).sum()\n",
    "    topic_stats.append((i, nonzero_count, [w for w, p in words]))\n",
    "\n",
    "df_stats = pd.DataFrame(topic_stats, columns=[\"topic\", \"num_words\", \"top_words\"])\n",
    "df_stats"
   ]
  },
  {
   "cell_type": "code",
   "execution_count": 29,
   "id": "f008ab1d",
   "metadata": {},
   "outputs": [
    {
     "data": {
      "text/plain": [
       "['__abstractmethods__',\n",
       " '__class__',\n",
       " '__class_getitem__',\n",
       " '__contains__',\n",
       " '__delattr__',\n",
       " '__dict__',\n",
       " '__dir__',\n",
       " '__doc__',\n",
       " '__eq__',\n",
       " '__format__',\n",
       " '__ge__',\n",
       " '__getattribute__',\n",
       " '__getitem__',\n",
       " '__getstate__',\n",
       " '__gt__',\n",
       " '__hash__',\n",
       " '__init__',\n",
       " '__init_subclass__',\n",
       " '__iter__',\n",
       " '__le__',\n",
       " '__len__',\n",
       " '__lt__',\n",
       " '__module__',\n",
       " '__ne__',\n",
       " '__new__',\n",
       " '__reduce__',\n",
       " '__reduce_ex__',\n",
       " '__repr__',\n",
       " '__reversed__',\n",
       " '__setattr__',\n",
       " '__sizeof__',\n",
       " '__slots__',\n",
       " '__str__',\n",
       " '__subclasshook__',\n",
       " '__weakref__',\n",
       " '_abc_impl',\n",
       " '_adapt_by_suffix',\n",
       " '_load_specials',\n",
       " '_save_specials',\n",
       " '_smart_save',\n",
       " 'add_documents',\n",
       " 'add_lifecycle_event',\n",
       " 'cfs',\n",
       " 'compactify',\n",
       " 'dfs',\n",
       " 'doc2bow',\n",
       " 'doc2idx',\n",
       " 'filter_extremes',\n",
       " 'filter_n_most_frequent',\n",
       " 'filter_tokens',\n",
       " 'from_corpus',\n",
       " 'from_documents',\n",
       " 'get',\n",
       " 'id2token',\n",
       " 'items',\n",
       " 'iteritems',\n",
       " 'iterkeys',\n",
       " 'itervalues',\n",
       " 'keys',\n",
       " 'lifecycle_events',\n",
       " 'load',\n",
       " 'load_from_text',\n",
       " 'merge_with',\n",
       " 'most_common',\n",
       " 'num_docs',\n",
       " 'num_nnz',\n",
       " 'num_pos',\n",
       " 'patch_with_special_tokens',\n",
       " 'save',\n",
       " 'save_as_text',\n",
       " 'token2id',\n",
       " 'values']"
      ]
     },
     "execution_count": 29,
     "metadata": {},
     "output_type": "execute_result"
    }
   ],
   "source": [
    "dir(dictionary)"
   ]
  },
  {
   "cell_type": "code",
   "execution_count": 30,
   "id": "9c297e34",
   "metadata": {},
   "outputs": [
    {
     "data": {
      "text/plain": [
       "{0: 'ดีมาก',\n",
       " 1: 'ทะเล',\n",
       " 2: 'อากาศ',\n",
       " 3: 'ไปเที่ยว',\n",
       " 4: 'ปัญญาประดิษฐ์',\n",
       " 5: 'เทคโนโลยี',\n",
       " 6: 'โลก',\n",
       " 7: 'กิน',\n",
       " 8: 'ชอบ',\n",
       " 9: 'ต้มยำกุ้ง',\n",
       " 10: 'ผัดไทย',\n",
       " 11: 'อาหาร',\n",
       " 12: 'โดยเฉพาะ',\n",
       " 13: 'ไทย',\n",
       " 14: 'ชีวิต',\n",
       " 15: 'นวัตกรรม',\n",
       " 16: 'ภูเขา',\n",
       " 17: 'วันหยุด',\n",
       " 18: 'เพื่อน'}"
      ]
     },
     "execution_count": 30,
     "metadata": {},
     "output_type": "execute_result"
    }
   ],
   "source": [
    "dictionary.id2token"
   ]
  },
  {
   "cell_type": "code",
   "execution_count": 31,
   "id": "85c23967",
   "metadata": {},
   "outputs": [
    {
     "data": {
      "text/plain": [
       "{'ดีมาก': 0,\n",
       " 'ทะเล': 1,\n",
       " 'อากาศ': 2,\n",
       " 'ไปเที่ยว': 3,\n",
       " 'ปัญญาประดิษฐ์': 4,\n",
       " 'เทคโนโลยี': 5,\n",
       " 'โลก': 6,\n",
       " 'กิน': 7,\n",
       " 'ชอบ': 8,\n",
       " 'ต้มยำกุ้ง': 9,\n",
       " 'ผัดไทย': 10,\n",
       " 'อาหาร': 11,\n",
       " 'โดยเฉพาะ': 12,\n",
       " 'ไทย': 13,\n",
       " 'ชีวิต': 14,\n",
       " 'นวัตกรรม': 15,\n",
       " 'ภูเขา': 16,\n",
       " 'วันหยุด': 17,\n",
       " 'เพื่อน': 18}"
      ]
     },
     "execution_count": 31,
     "metadata": {},
     "output_type": "execute_result"
    }
   ],
   "source": [
    "dictionary.token2id"
   ]
  },
  {
   "cell_type": "code",
   "execution_count": 63,
   "id": "1dc53042",
   "metadata": {},
   "outputs": [],
   "source": [
    "import numpy as np\n",
    "\n",
    "# phi: topic-word matrix shape (num_topics, vocab_size)\n",
    "phi = lda_model.get_topics()          # P(word | topic)\n",
    "vocab = dictionary.token2id           # mapping word->id\n",
    "num_topics = phi.shape[0]\n",
    "\n",
    "# alpha: prior. lda_model.alpha may be scalar or array\n",
    "alpha = lda_model.alpha\n",
    "if np.isscalar(alpha):\n",
    "    topic_prior = np.ones(num_topics) * alpha\n",
    "else:\n",
    "    topic_prior = np.array(alpha)\n",
    "\n",
    "# Convert prior to something proportional to P(z=k)\n",
    "# Use (alpha) as prior weight; for log use log(alpha) (add small eps)\n",
    "eps = 1e-12\n",
    "log_prior = np.log(topic_prior + eps)\n",
    "\n",
    "# bow is list of (word_id, count)\n",
    "def infer_topic_probs_from_bow(bow):\n",
    "    # compute log-score for each topic\n",
    "    log_s = np.array(log_prior, dtype=float)  # shape (num_topics,)\n",
    "    for wid, count in bow:\n",
    "        # P(word|topic) for all topics: phi[:, wid]\n",
    "        # Avoid zeros: clip\n",
    "        probs = np.clip(phi[:, wid], 1e-12, None)\n",
    "        log_s += count * np.log(probs)\n",
    "    # normalize in log space -> get probabilities\n",
    "    # subtract max for numerical stability\n",
    "    log_s -= log_s.max()\n",
    "    s = np.exp(log_s)\n",
    "    probs = s / s.sum()\n",
    "    return probs\n",
    "\n",
    "# Example: compute and compare to gensim result\n",
    "probs = infer_topic_probs_from_bow(bow)"
   ]
  },
  {
   "cell_type": "code",
   "execution_count": 64,
   "id": "8f4a9945",
   "metadata": {},
   "outputs": [
    {
     "data": {
      "text/plain": [
       "array([0.01345267, 0.02252551, 0.92067544, 0.04334638])"
      ]
     },
     "execution_count": 64,
     "metadata": {},
     "output_type": "execute_result"
    }
   ],
   "source": [
    "probs"
   ]
  },
  {
   "cell_type": "code",
   "execution_count": 65,
   "id": "5b855028",
   "metadata": {},
   "outputs": [
    {
     "data": {
      "text/plain": [
       "(2, 0.9474282)"
      ]
     },
     "execution_count": 65,
     "metadata": {},
     "output_type": "execute_result"
    }
   ],
   "source": [
    "gensim_predict_topic(texts[0], lda_model, dictionary, tokenizer, return_all_topics=False)"
   ]
  },
  {
   "cell_type": "code",
   "execution_count": 66,
   "id": "912cfcfb",
   "metadata": {},
   "outputs": [
    {
     "data": {
      "text/plain": [
       "[(0, 0.016297901), (1, 0.028862536), (2, 0.9474282)]"
      ]
     },
     "execution_count": 66,
     "metadata": {},
     "output_type": "execute_result"
    }
   ],
   "source": [
    "topics"
   ]
  },
  {
   "cell_type": "code",
   "execution_count": 67,
   "id": "c9735474",
   "metadata": {},
   "outputs": [],
   "source": [
    "import numpy as np\n",
    "from gensim import corpora\n",
    "\n",
    "def predict_topic_distribution(lda_model, dictionary, tokens):\n",
    "    \"\"\"\n",
    "    Manually compute topic probabilities for a new document.\n",
    "    Based on P(z | d) ∝ P(z) * ∏_w P(w | z)^{n_w,d}\n",
    "    \"\"\"\n",
    "    # Convert tokens → bag of words\n",
    "    bow = dictionary.doc2bow(tokens)\n",
    "\n",
    "    # Get topic-word matrix (num_topics x vocab_size)\n",
    "    topic_word_prob = lda_model.get_topics()  # P(w|z)\n",
    "    num_topics = topic_word_prob.shape[0]\n",
    "    \n",
    "    # Topic prior (from alpha)\n",
    "    alpha = np.array(lda_model.alpha)\n",
    "    log_prior = np.log(alpha / alpha.sum())\n",
    "    \n",
    "    # Initialize log-probabilities\n",
    "    log_prob = np.copy(log_prior)\n",
    "\n",
    "    # For each word in the document\n",
    "    for word_id, count in bow:\n",
    "        # Skip unseen words\n",
    "        if word_id >= topic_word_prob.shape[1]:\n",
    "            continue\n",
    "        word_probs = topic_word_prob[:, word_id] + 1e-12  # avoid log(0)\n",
    "        log_prob += count * np.log(word_probs)\n",
    "    \n",
    "    # Convert back from log space → normal probability\n",
    "    prob = np.exp(log_prob - np.max(log_prob))  # avoid overflow\n",
    "    prob /= prob.sum()\n",
    "    \n",
    "    return prob\n"
   ]
  },
  {
   "cell_type": "code",
   "execution_count": 70,
   "id": "1b60acf5",
   "metadata": {},
   "outputs": [
    {
     "name": "stdout",
     "output_type": "stream",
     "text": [
      "Manual: [0.01345267 0.02252552 0.9206754  0.04334642]\n",
      "Gensim: [0.0162979  0.02886263 0.9474281  0.00741135]\n"
     ]
    }
   ],
   "source": [
    "tokens = ['อากาศ', 'ดีมาก', 'ไปเที่ยว', 'ทะเล']\n",
    "\n",
    "manual_prob = predict_topic_distribution(lda_model, dictionary, tokens)\n",
    "gensim_prob = np.array([p for _, p in lda_model.get_document_topics(dictionary.doc2bow(tokens), minimum_probability=0)])\n",
    "\n",
    "print(\"Manual:\", manual_prob)\n",
    "print(\"Gensim:\", gensim_prob)\n"
   ]
  },
  {
   "cell_type": "code",
   "execution_count": null,
   "id": "dd250d7f",
   "metadata": {},
   "outputs": [],
   "source": []
  }
 ],
 "metadata": {
  "kernelspec": {
   "display_name": ".venv",
   "language": "python",
   "name": "python3"
  },
  "language_info": {
   "codemirror_mode": {
    "name": "ipython",
    "version": 3
   },
   "file_extension": ".py",
   "mimetype": "text/x-python",
   "name": "python",
   "nbconvert_exporter": "python",
   "pygments_lexer": "ipython3",
   "version": "3.12.3"
  }
 },
 "nbformat": 4,
 "nbformat_minor": 5
}
